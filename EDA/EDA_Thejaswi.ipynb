{
 "cells": [
  {
   "cell_type": "code",
   "execution_count": 42,
   "id": "04ce757c",
   "metadata": {},
   "outputs": [],
   "source": [
    "import pandas as pd\n",
    "import numpy as np\n",
    "import matplotlib.pyplot as plt\n",
    "import seaborn as sns"
   ]
  },
  {
   "cell_type": "code",
   "execution_count": 22,
   "id": "f8004a94",
   "metadata": {},
   "outputs": [],
   "source": [
    "df = pd.read_csv(\"C:/Users/Thejaswi/Documents/Sem 5/DA/Climate-Analysis/data/Chennai_hourly.csv\")"
   ]
  },
  {
   "cell_type": "code",
   "execution_count": 23,
   "id": "8a7617d7",
   "metadata": {},
   "outputs": [
    {
     "data": {
      "text/html": [
       "<div>\n",
       "<style scoped>\n",
       "    .dataframe tbody tr th:only-of-type {\n",
       "        vertical-align: middle;\n",
       "    }\n",
       "\n",
       "    .dataframe tbody tr th {\n",
       "        vertical-align: top;\n",
       "    }\n",
       "\n",
       "    .dataframe thead th {\n",
       "        text-align: right;\n",
       "    }\n",
       "</style>\n",
       "<table border=\"1\" class=\"dataframe\">\n",
       "  <thead>\n",
       "    <tr style=\"text-align: right;\">\n",
       "      <th></th>\n",
       "      <th>YEAR</th>\n",
       "      <th>MO</th>\n",
       "      <th>DY</th>\n",
       "      <th>HR</th>\n",
       "      <th>DATE</th>\n",
       "      <th>DATE_HOUR</th>\n",
       "      <th>T2M</th>\n",
       "      <th>QV2M</th>\n",
       "      <th>PRECTOTCORR</th>\n",
       "      <th>WS10M</th>\n",
       "      <th>PS</th>\n",
       "      <th>ALLSKY_SFC_UV_INDEX</th>\n",
       "      <th>T2MDEW</th>\n",
       "      <th>T2MWET</th>\n",
       "      <th>WD10M</th>\n",
       "      <th>WS10M.1</th>\n",
       "    </tr>\n",
       "  </thead>\n",
       "  <tbody>\n",
       "    <tr>\n",
       "      <th>0</th>\n",
       "      <td>2012</td>\n",
       "      <td>1</td>\n",
       "      <td>1</td>\n",
       "      <td>5</td>\n",
       "      <td>01-01-2012</td>\n",
       "      <td>1-1-2012 Hr - 5</td>\n",
       "      <td>23.53</td>\n",
       "      <td>17.21</td>\n",
       "      <td>0.51</td>\n",
       "      <td>3.22</td>\n",
       "      <td>100.67</td>\n",
       "      <td>0.00</td>\n",
       "      <td>22.71</td>\n",
       "      <td>23.12</td>\n",
       "      <td>107.64</td>\n",
       "      <td>3.22</td>\n",
       "    </tr>\n",
       "    <tr>\n",
       "      <th>1</th>\n",
       "      <td>2012</td>\n",
       "      <td>1</td>\n",
       "      <td>1</td>\n",
       "      <td>6</td>\n",
       "      <td>01-01-2012</td>\n",
       "      <td>1-1-2012 Hr - 6</td>\n",
       "      <td>24.30</td>\n",
       "      <td>17.76</td>\n",
       "      <td>0.49</td>\n",
       "      <td>3.20</td>\n",
       "      <td>100.76</td>\n",
       "      <td>0.02</td>\n",
       "      <td>23.21</td>\n",
       "      <td>23.76</td>\n",
       "      <td>110.43</td>\n",
       "      <td>3.20</td>\n",
       "    </tr>\n",
       "    <tr>\n",
       "      <th>2</th>\n",
       "      <td>2012</td>\n",
       "      <td>1</td>\n",
       "      <td>1</td>\n",
       "      <td>7</td>\n",
       "      <td>01-01-2012</td>\n",
       "      <td>1-1-2012 Hr - 7</td>\n",
       "      <td>25.62</td>\n",
       "      <td>18.37</td>\n",
       "      <td>0.50</td>\n",
       "      <td>3.99</td>\n",
       "      <td>100.86</td>\n",
       "      <td>0.52</td>\n",
       "      <td>23.81</td>\n",
       "      <td>24.72</td>\n",
       "      <td>113.76</td>\n",
       "      <td>3.99</td>\n",
       "    </tr>\n",
       "    <tr>\n",
       "      <th>3</th>\n",
       "      <td>2012</td>\n",
       "      <td>1</td>\n",
       "      <td>1</td>\n",
       "      <td>8</td>\n",
       "      <td>01-01-2012</td>\n",
       "      <td>1-1-2012 Hr - 8</td>\n",
       "      <td>26.51</td>\n",
       "      <td>18.43</td>\n",
       "      <td>0.45</td>\n",
       "      <td>4.69</td>\n",
       "      <td>100.90</td>\n",
       "      <td>1.73</td>\n",
       "      <td>23.86</td>\n",
       "      <td>25.18</td>\n",
       "      <td>116.82</td>\n",
       "      <td>4.69</td>\n",
       "    </tr>\n",
       "    <tr>\n",
       "      <th>4</th>\n",
       "      <td>2012</td>\n",
       "      <td>1</td>\n",
       "      <td>1</td>\n",
       "      <td>9</td>\n",
       "      <td>01-01-2012</td>\n",
       "      <td>1-1-2012 Hr - 9</td>\n",
       "      <td>27.32</td>\n",
       "      <td>18.37</td>\n",
       "      <td>0.44</td>\n",
       "      <td>5.18</td>\n",
       "      <td>100.87</td>\n",
       "      <td>3.95</td>\n",
       "      <td>23.82</td>\n",
       "      <td>25.57</td>\n",
       "      <td>118.07</td>\n",
       "      <td>5.18</td>\n",
       "    </tr>\n",
       "  </tbody>\n",
       "</table>\n",
       "</div>"
      ],
      "text/plain": [
       "   YEAR  MO  DY  HR        DATE        DATE_HOUR    T2M   QV2M  PRECTOTCORR  \\\n",
       "0  2012   1   1   5  01-01-2012  1-1-2012 Hr - 5  23.53  17.21         0.51   \n",
       "1  2012   1   1   6  01-01-2012  1-1-2012 Hr - 6  24.30  17.76         0.49   \n",
       "2  2012   1   1   7  01-01-2012  1-1-2012 Hr - 7  25.62  18.37         0.50   \n",
       "3  2012   1   1   8  01-01-2012  1-1-2012 Hr - 8  26.51  18.43         0.45   \n",
       "4  2012   1   1   9  01-01-2012  1-1-2012 Hr - 9  27.32  18.37         0.44   \n",
       "\n",
       "   WS10M      PS  ALLSKY_SFC_UV_INDEX  T2MDEW  T2MWET   WD10M  WS10M.1  \n",
       "0   3.22  100.67                 0.00   22.71   23.12  107.64     3.22  \n",
       "1   3.20  100.76                 0.02   23.21   23.76  110.43     3.20  \n",
       "2   3.99  100.86                 0.52   23.81   24.72  113.76     3.99  \n",
       "3   4.69  100.90                 1.73   23.86   25.18  116.82     4.69  \n",
       "4   5.18  100.87                 3.95   23.82   25.57  118.07     5.18  "
      ]
     },
     "execution_count": 23,
     "metadata": {},
     "output_type": "execute_result"
    }
   ],
   "source": [
    "df.head()"
   ]
  },
  {
   "cell_type": "code",
   "execution_count": 117,
   "id": "c79f2d89",
   "metadata": {},
   "outputs": [
    {
     "data": {
      "text/plain": [
       "<AxesSubplot:xlabel='DATE_HOUR'>"
      ]
     },
     "execution_count": 117,
     "metadata": {},
     "output_type": "execute_result"
    },
    {
     "data": {
      "image/png": "[encoded data removed]",
      "text/plain": [
       "<Figure size 1440x288 with 1 Axes>"
      ]
     },
     "metadata": {
      "needs_background": "light"
     },
     "output_type": "display_data"
    }
   ],
   "source": [
    "df.iloc[51944:52184,].plot(figsize=(20,4),x=\"DATE_HOUR\",y=[\"PRECTOTCORR\"]) "
   ]
  },
  {
   "cell_type": "code",
   "execution_count": 10,
   "id": "7c5056d9",
   "metadata": {},
   "outputs": [],
   "source": [
    "monthly_precipitation = pd.DataFrame({'Year':[], 'Month':[], 'Precipitation':[]})"
   ]
  },
  {
   "cell_type": "code",
   "execution_count": 121,
   "id": "0a77906f",
   "metadata": {},
   "outputs": [
    {
     "name": "stderr",
     "output_type": "stream",
     "text": [
      "C:\\Users\\Thejaswi\\AppData\\Local\\Temp\\ipykernel_24288\\270577164.py:6: FutureWarning: The frame.append method is deprecated and will be removed from pandas in a future version. Use pandas.concat instead.\n",
      "  monthly_precipitation = monthly_precipitation.append({'Year':df[\"YEAR\"].iloc[i], 'Month':month[df[\"MO\"].iloc[i]-1], 'Precipitation':precipitation_sum}, ignore_index = True)\n",
      "C:\\Users\\Thejaswi\\AppData\\Local\\Temp\\ipykernel_24288\\270577164.py:6: FutureWarning: The frame.append method is deprecated and will be removed from pandas in a future version. Use pandas.concat instead.\n",
      "  monthly_precipitation = monthly_precipitation.append({'Year':df[\"YEAR\"].iloc[i], 'Month':month[df[\"MO\"].iloc[i]-1], 'Precipitation':precipitation_sum}, ignore_index = True)\n",
      "C:\\Users\\Thejaswi\\AppData\\Local\\Temp\\ipykernel_24288\\270577164.py:6: FutureWarning: The frame.append method is deprecated and will be removed from pandas in a future version. Use pandas.concat instead.\n",
      "  monthly_precipitation = monthly_precipitation.append({'Year':df[\"YEAR\"].iloc[i], 'Month':month[df[\"MO\"].iloc[i]-1], 'Precipitation':precipitation_sum}, ignore_index = True)\n",
      "C:\\Users\\Thejaswi\\AppData\\Local\\Temp\\ipykernel_24288\\270577164.py:6: FutureWarning: The frame.append method is deprecated and will be removed from pandas in a future version. Use pandas.concat instead.\n",
      "  monthly_precipitation = monthly_precipitation.append({'Year':df[\"YEAR\"].iloc[i], 'Month':month[df[\"MO\"].iloc[i]-1], 'Precipitation':precipitation_sum}, ignore_index = True)\n",
      "C:\\Users\\Thejaswi\\AppData\\Local\\Temp\\ipykernel_24288\\270577164.py:6: FutureWarning: The frame.append method is deprecated and will be removed from pandas in a future version. Use pandas.concat instead.\n",
      "  monthly_precipitation = monthly_precipitation.append({'Year':df[\"YEAR\"].iloc[i], 'Month':month[df[\"MO\"].iloc[i]-1], 'Precipitation':precipitation_sum}, ignore_index = True)\n",
      "C:\\Users\\Thejaswi\\AppData\\Local\\Temp\\ipykernel_24288\\270577164.py:6: FutureWarning: The frame.append method is deprecated and will be removed from pandas in a future version. Use pandas.concat instead.\n",
      "  monthly_precipitation = monthly_precipitation.append({'Year':df[\"YEAR\"].iloc[i], 'Month':month[df[\"MO\"].iloc[i]-1], 'Precipitation':precipitation_sum}, ignore_index = True)\n",
      "C:\\Users\\Thejaswi\\AppData\\Local\\Temp\\ipykernel_24288\\270577164.py:6: FutureWarning: The frame.append method is deprecated and will be removed from pandas in a future version. Use pandas.concat instead.\n",
      "  monthly_precipitation = monthly_precipitation.append({'Year':df[\"YEAR\"].iloc[i], 'Month':month[df[\"MO\"].iloc[i]-1], 'Precipitation':precipitation_sum}, ignore_index = True)\n",
      "C:\\Users\\Thejaswi\\AppData\\Local\\Temp\\ipykernel_24288\\270577164.py:6: FutureWarning: The frame.append method is deprecated and will be removed from pandas in a future version. Use pandas.concat instead.\n",
      "  monthly_precipitation = monthly_precipitation.append({'Year':df[\"YEAR\"].iloc[i], 'Month':month[df[\"MO\"].iloc[i]-1], 'Precipitation':precipitation_sum}, ignore_index = True)\n",
      "C:\\Users\\Thejaswi\\AppData\\Local\\Temp\\ipykernel_24288\\270577164.py:6: FutureWarning: The frame.append method is deprecated and will be removed from pandas in a future version. Use pandas.concat instead.\n",
      "  monthly_precipitation = monthly_precipitation.append({'Year':df[\"YEAR\"].iloc[i], 'Month':month[df[\"MO\"].iloc[i]-1], 'Precipitation':precipitation_sum}, ignore_index = True)\n",
      "C:\\Users\\Thejaswi\\AppData\\Local\\Temp\\ipykernel_24288\\270577164.py:6: FutureWarning: The frame.append method is deprecated and will be removed from pandas in a future version. Use pandas.concat instead.\n",
      "  monthly_precipitation = monthly_precipitation.append({'Year':df[\"YEAR\"].iloc[i], 'Month':month[df[\"MO\"].iloc[i]-1], 'Precipitation':precipitation_sum}, ignore_index = True)\n",
      "C:\\Users\\Thejaswi\\AppData\\Local\\Temp\\ipykernel_24288\\270577164.py:6: FutureWarning: The frame.append method is deprecated and will be removed from pandas in a future version. Use pandas.concat instead.\n",
      "  monthly_precipitation = monthly_precipitation.append({'Year':df[\"YEAR\"].iloc[i], 'Month':month[df[\"MO\"].iloc[i]-1], 'Precipitation':precipitation_sum}, ignore_index = True)\n",
      "C:\\Users\\Thejaswi\\AppData\\Local\\Temp\\ipykernel_24288\\270577164.py:6: FutureWarning: The frame.append method is deprecated and will be removed from pandas in a future version. Use pandas.concat instead.\n",
      "  monthly_precipitation = monthly_precipitation.append({'Year':df[\"YEAR\"].iloc[i], 'Month':month[df[\"MO\"].iloc[i]-1], 'Precipitation':precipitation_sum}, ignore_index = True)\n",
      "C:\\Users\\Thejaswi\\AppData\\Local\\Temp\\ipykernel_24288\\270577164.py:6: FutureWarning: The frame.append method is deprecated and will be removed from pandas in a future version. Use pandas.concat instead.\n",
      "  monthly_precipitation = monthly_precipitation.append({'Year':df[\"YEAR\"].iloc[i], 'Month':month[df[\"MO\"].iloc[i]-1], 'Precipitation':precipitation_sum}, ignore_index = True)\n",
      "C:\\Users\\Thejaswi\\AppData\\Local\\Temp\\ipykernel_24288\\270577164.py:6: FutureWarning: The frame.append method is deprecated and will be removed from pandas in a future version. Use pandas.concat instead.\n",
      "  monthly_precipitation = monthly_precipitation.append({'Year':df[\"YEAR\"].iloc[i], 'Month':month[df[\"MO\"].iloc[i]-1], 'Precipitation':precipitation_sum}, ignore_index = True)\n",
      "C:\\Users\\Thejaswi\\AppData\\Local\\Temp\\ipykernel_24288\\270577164.py:6: FutureWarning: The frame.append method is deprecated and will be removed from pandas in a future version. Use pandas.concat instead.\n",
      "  monthly_precipitation = monthly_precipitation.append({'Year':df[\"YEAR\"].iloc[i], 'Month':month[df[\"MO\"].iloc[i]-1], 'Precipitation':precipitation_sum}, ignore_index = True)\n",
      "C:\\Users\\Thejaswi\\AppData\\Local\\Temp\\ipykernel_24288\\270577164.py:6: FutureWarning: The frame.append method is deprecated and will be removed from pandas in a future version. Use pandas.concat instead.\n",
      "  monthly_precipitation = monthly_precipitation.append({'Year':df[\"YEAR\"].iloc[i], 'Month':month[df[\"MO\"].iloc[i]-1], 'Precipitation':precipitation_sum}, ignore_index = True)\n",
      "C:\\Users\\Thejaswi\\AppData\\Local\\Temp\\ipykernel_24288\\270577164.py:6: FutureWarning: The frame.append method is deprecated and will be removed from pandas in a future version. Use pandas.concat instead.\n",
      "  monthly_precipitation = monthly_precipitation.append({'Year':df[\"YEAR\"].iloc[i], 'Month':month[df[\"MO\"].iloc[i]-1], 'Precipitation':precipitation_sum}, ignore_index = True)\n",
      "C:\\Users\\Thejaswi\\AppData\\Local\\Temp\\ipykernel_24288\\270577164.py:6: FutureWarning: The frame.append method is deprecated and will be removed from pandas in a future version. Use pandas.concat instead.\n",
      "  monthly_precipitation = monthly_precipitation.append({'Year':df[\"YEAR\"].iloc[i], 'Month':month[df[\"MO\"].iloc[i]-1], 'Precipitation':precipitation_sum}, ignore_index = True)\n",
      "C:\\Users\\Thejaswi\\AppData\\Local\\Temp\\ipykernel_24288\\270577164.py:6: FutureWarning: The frame.append method is deprecated and will be removed from pandas in a future version. Use pandas.concat instead.\n",
      "  monthly_precipitation = monthly_precipitation.append({'Year':df[\"YEAR\"].iloc[i], 'Month':month[df[\"MO\"].iloc[i]-1], 'Precipitation':precipitation_sum}, ignore_index = True)\n",
      "C:\\Users\\Thejaswi\\AppData\\Local\\Temp\\ipykernel_24288\\270577164.py:6: FutureWarning: The frame.append method is deprecated and will be removed from pandas in a future version. Use pandas.concat instead.\n",
      "  monthly_precipitation = monthly_precipitation.append({'Year':df[\"YEAR\"].iloc[i], 'Month':month[df[\"MO\"].iloc[i]-1], 'Precipitation':precipitation_sum}, ignore_index = True)\n",
      "C:\\Users\\Thejaswi\\AppData\\Local\\Temp\\ipykernel_24288\\270577164.py:6: FutureWarning: The frame.append method is deprecated and will be removed from pandas in a future version. Use pandas.concat instead.\n",
      "  monthly_precipitation = monthly_precipitation.append({'Year':df[\"YEAR\"].iloc[i], 'Month':month[df[\"MO\"].iloc[i]-1], 'Precipitation':precipitation_sum}, ignore_index = True)\n",
      "C:\\Users\\Thejaswi\\AppData\\Local\\Temp\\ipykernel_24288\\270577164.py:6: FutureWarning: The frame.append method is deprecated and will be removed from pandas in a future version. Use pandas.concat instead.\n",
      "  monthly_precipitation = monthly_precipitation.append({'Year':df[\"YEAR\"].iloc[i], 'Month':month[df[\"MO\"].iloc[i]-1], 'Precipitation':precipitation_sum}, ignore_index = True)\n",
      "C:\\Users\\Thejaswi\\AppData\\Local\\Temp\\ipykernel_24288\\270577164.py:6: FutureWarning: The frame.append method is deprecated and will be removed from pandas in a future version. Use pandas.concat instead.\n",
      "  monthly_precipitation = monthly_precipitation.append({'Year':df[\"YEAR\"].iloc[i], 'Month':month[df[\"MO\"].iloc[i]-1], 'Precipitation':precipitation_sum}, ignore_index = True)\n",
      "C:\\Users\\Thejaswi\\AppData\\Local\\Temp\\ipykernel_24288\\270577164.py:6: FutureWarning: The frame.append method is deprecated and will be removed from pandas in a future version. Use pandas.concat instead.\n",
      "  monthly_precipitation = monthly_precipitation.append({'Year':df[\"YEAR\"].iloc[i], 'Month':month[df[\"MO\"].iloc[i]-1], 'Precipitation':precipitation_sum}, ignore_index = True)\n"
     ]
    },
    {
     "name": "stderr",
     "output_type": "stream",
     "text": [
      "C:\\Users\\Thejaswi\\AppData\\Local\\Temp\\ipykernel_24288\\270577164.py:6: FutureWarning: The frame.append method is deprecated and will be removed from pandas in a future version. Use pandas.concat instead.\n",
      "  monthly_precipitation = monthly_precipitation.append({'Year':df[\"YEAR\"].iloc[i], 'Month':month[df[\"MO\"].iloc[i]-1], 'Precipitation':precipitation_sum}, ignore_index = True)\n",
      "C:\\Users\\Thejaswi\\AppData\\Local\\Temp\\ipykernel_24288\\270577164.py:6: FutureWarning: The frame.append method is deprecated and will be removed from pandas in a future version. Use pandas.concat instead.\n",
      "  monthly_precipitation = monthly_precipitation.append({'Year':df[\"YEAR\"].iloc[i], 'Month':month[df[\"MO\"].iloc[i]-1], 'Precipitation':precipitation_sum}, ignore_index = True)\n",
      "C:\\Users\\Thejaswi\\AppData\\Local\\Temp\\ipykernel_24288\\270577164.py:6: FutureWarning: The frame.append method is deprecated and will be removed from pandas in a future version. Use pandas.concat instead.\n",
      "  monthly_precipitation = monthly_precipitation.append({'Year':df[\"YEAR\"].iloc[i], 'Month':month[df[\"MO\"].iloc[i]-1], 'Precipitation':precipitation_sum}, ignore_index = True)\n",
      "C:\\Users\\Thejaswi\\AppData\\Local\\Temp\\ipykernel_24288\\270577164.py:6: FutureWarning: The frame.append method is deprecated and will be removed from pandas in a future version. Use pandas.concat instead.\n",
      "  monthly_precipitation = monthly_precipitation.append({'Year':df[\"YEAR\"].iloc[i], 'Month':month[df[\"MO\"].iloc[i]-1], 'Precipitation':precipitation_sum}, ignore_index = True)\n",
      "C:\\Users\\Thejaswi\\AppData\\Local\\Temp\\ipykernel_24288\\270577164.py:6: FutureWarning: The frame.append method is deprecated and will be removed from pandas in a future version. Use pandas.concat instead.\n",
      "  monthly_precipitation = monthly_precipitation.append({'Year':df[\"YEAR\"].iloc[i], 'Month':month[df[\"MO\"].iloc[i]-1], 'Precipitation':precipitation_sum}, ignore_index = True)\n",
      "C:\\Users\\Thejaswi\\AppData\\Local\\Temp\\ipykernel_24288\\270577164.py:6: FutureWarning: The frame.append method is deprecated and will be removed from pandas in a future version. Use pandas.concat instead.\n",
      "  monthly_precipitation = monthly_precipitation.append({'Year':df[\"YEAR\"].iloc[i], 'Month':month[df[\"MO\"].iloc[i]-1], 'Precipitation':precipitation_sum}, ignore_index = True)\n",
      "C:\\Users\\Thejaswi\\AppData\\Local\\Temp\\ipykernel_24288\\270577164.py:6: FutureWarning: The frame.append method is deprecated and will be removed from pandas in a future version. Use pandas.concat instead.\n",
      "  monthly_precipitation = monthly_precipitation.append({'Year':df[\"YEAR\"].iloc[i], 'Month':month[df[\"MO\"].iloc[i]-1], 'Precipitation':precipitation_sum}, ignore_index = True)\n",
      "C:\\Users\\Thejaswi\\AppData\\Local\\Temp\\ipykernel_24288\\270577164.py:6: FutureWarning: The frame.append method is deprecated and will be removed from pandas in a future version. Use pandas.concat instead.\n",
      "  monthly_precipitation = monthly_precipitation.append({'Year':df[\"YEAR\"].iloc[i], 'Month':month[df[\"MO\"].iloc[i]-1], 'Precipitation':precipitation_sum}, ignore_index = True)\n",
      "C:\\Users\\Thejaswi\\AppData\\Local\\Temp\\ipykernel_24288\\270577164.py:6: FutureWarning: The frame.append method is deprecated and will be removed from pandas in a future version. Use pandas.concat instead.\n",
      "  monthly_precipitation = monthly_precipitation.append({'Year':df[\"YEAR\"].iloc[i], 'Month':month[df[\"MO\"].iloc[i]-1], 'Precipitation':precipitation_sum}, ignore_index = True)\n",
      "C:\\Users\\Thejaswi\\AppData\\Local\\Temp\\ipykernel_24288\\270577164.py:6: FutureWarning: The frame.append method is deprecated and will be removed from pandas in a future version. Use pandas.concat instead.\n",
      "  monthly_precipitation = monthly_precipitation.append({'Year':df[\"YEAR\"].iloc[i], 'Month':month[df[\"MO\"].iloc[i]-1], 'Precipitation':precipitation_sum}, ignore_index = True)\n",
      "C:\\Users\\Thejaswi\\AppData\\Local\\Temp\\ipykernel_24288\\270577164.py:6: FutureWarning: The frame.append method is deprecated and will be removed from pandas in a future version. Use pandas.concat instead.\n",
      "  monthly_precipitation = monthly_precipitation.append({'Year':df[\"YEAR\"].iloc[i], 'Month':month[df[\"MO\"].iloc[i]-1], 'Precipitation':precipitation_sum}, ignore_index = True)\n",
      "C:\\Users\\Thejaswi\\AppData\\Local\\Temp\\ipykernel_24288\\270577164.py:6: FutureWarning: The frame.append method is deprecated and will be removed from pandas in a future version. Use pandas.concat instead.\n",
      "  monthly_precipitation = monthly_precipitation.append({'Year':df[\"YEAR\"].iloc[i], 'Month':month[df[\"MO\"].iloc[i]-1], 'Precipitation':precipitation_sum}, ignore_index = True)\n",
      "C:\\Users\\Thejaswi\\AppData\\Local\\Temp\\ipykernel_24288\\270577164.py:6: FutureWarning: The frame.append method is deprecated and will be removed from pandas in a future version. Use pandas.concat instead.\n",
      "  monthly_precipitation = monthly_precipitation.append({'Year':df[\"YEAR\"].iloc[i], 'Month':month[df[\"MO\"].iloc[i]-1], 'Precipitation':precipitation_sum}, ignore_index = True)\n",
      "C:\\Users\\Thejaswi\\AppData\\Local\\Temp\\ipykernel_24288\\270577164.py:6: FutureWarning: The frame.append method is deprecated and will be removed from pandas in a future version. Use pandas.concat instead.\n",
      "  monthly_precipitation = monthly_precipitation.append({'Year':df[\"YEAR\"].iloc[i], 'Month':month[df[\"MO\"].iloc[i]-1], 'Precipitation':precipitation_sum}, ignore_index = True)\n",
      "C:\\Users\\Thejaswi\\AppData\\Local\\Temp\\ipykernel_24288\\270577164.py:6: FutureWarning: The frame.append method is deprecated and will be removed from pandas in a future version. Use pandas.concat instead.\n",
      "  monthly_precipitation = monthly_precipitation.append({'Year':df[\"YEAR\"].iloc[i], 'Month':month[df[\"MO\"].iloc[i]-1], 'Precipitation':precipitation_sum}, ignore_index = True)\n",
      "C:\\Users\\Thejaswi\\AppData\\Local\\Temp\\ipykernel_24288\\270577164.py:6: FutureWarning: The frame.append method is deprecated and will be removed from pandas in a future version. Use pandas.concat instead.\n",
      "  monthly_precipitation = monthly_precipitation.append({'Year':df[\"YEAR\"].iloc[i], 'Month':month[df[\"MO\"].iloc[i]-1], 'Precipitation':precipitation_sum}, ignore_index = True)\n",
      "C:\\Users\\Thejaswi\\AppData\\Local\\Temp\\ipykernel_24288\\270577164.py:6: FutureWarning: The frame.append method is deprecated and will be removed from pandas in a future version. Use pandas.concat instead.\n",
      "  monthly_precipitation = monthly_precipitation.append({'Year':df[\"YEAR\"].iloc[i], 'Month':month[df[\"MO\"].iloc[i]-1], 'Precipitation':precipitation_sum}, ignore_index = True)\n",
      "C:\\Users\\Thejaswi\\AppData\\Local\\Temp\\ipykernel_24288\\270577164.py:6: FutureWarning: The frame.append method is deprecated and will be removed from pandas in a future version. Use pandas.concat instead.\n",
      "  monthly_precipitation = monthly_precipitation.append({'Year':df[\"YEAR\"].iloc[i], 'Month':month[df[\"MO\"].iloc[i]-1], 'Precipitation':precipitation_sum}, ignore_index = True)\n",
      "C:\\Users\\Thejaswi\\AppData\\Local\\Temp\\ipykernel_24288\\270577164.py:6: FutureWarning: The frame.append method is deprecated and will be removed from pandas in a future version. Use pandas.concat instead.\n",
      "  monthly_precipitation = monthly_precipitation.append({'Year':df[\"YEAR\"].iloc[i], 'Month':month[df[\"MO\"].iloc[i]-1], 'Precipitation':precipitation_sum}, ignore_index = True)\n",
      "C:\\Users\\Thejaswi\\AppData\\Local\\Temp\\ipykernel_24288\\270577164.py:6: FutureWarning: The frame.append method is deprecated and will be removed from pandas in a future version. Use pandas.concat instead.\n",
      "  monthly_precipitation = monthly_precipitation.append({'Year':df[\"YEAR\"].iloc[i], 'Month':month[df[\"MO\"].iloc[i]-1], 'Precipitation':precipitation_sum}, ignore_index = True)\n",
      "C:\\Users\\Thejaswi\\AppData\\Local\\Temp\\ipykernel_24288\\270577164.py:6: FutureWarning: The frame.append method is deprecated and will be removed from pandas in a future version. Use pandas.concat instead.\n",
      "  monthly_precipitation = monthly_precipitation.append({'Year':df[\"YEAR\"].iloc[i], 'Month':month[df[\"MO\"].iloc[i]-1], 'Precipitation':precipitation_sum}, ignore_index = True)\n",
      "C:\\Users\\Thejaswi\\AppData\\Local\\Temp\\ipykernel_24288\\270577164.py:6: FutureWarning: The frame.append method is deprecated and will be removed from pandas in a future version. Use pandas.concat instead.\n",
      "  monthly_precipitation = monthly_precipitation.append({'Year':df[\"YEAR\"].iloc[i], 'Month':month[df[\"MO\"].iloc[i]-1], 'Precipitation':precipitation_sum}, ignore_index = True)\n",
      "C:\\Users\\Thejaswi\\AppData\\Local\\Temp\\ipykernel_24288\\270577164.py:6: FutureWarning: The frame.append method is deprecated and will be removed from pandas in a future version. Use pandas.concat instead.\n",
      "  monthly_precipitation = monthly_precipitation.append({'Year':df[\"YEAR\"].iloc[i], 'Month':month[df[\"MO\"].iloc[i]-1], 'Precipitation':precipitation_sum}, ignore_index = True)\n",
      "C:\\Users\\Thejaswi\\AppData\\Local\\Temp\\ipykernel_24288\\270577164.py:6: FutureWarning: The frame.append method is deprecated and will be removed from pandas in a future version. Use pandas.concat instead.\n",
      "  monthly_precipitation = monthly_precipitation.append({'Year':df[\"YEAR\"].iloc[i], 'Month':month[df[\"MO\"].iloc[i]-1], 'Precipitation':precipitation_sum}, ignore_index = True)\n"
     ]
    },
    {
     "name": "stderr",
     "output_type": "stream",
     "text": [
      "C:\\Users\\Thejaswi\\AppData\\Local\\Temp\\ipykernel_24288\\270577164.py:6: FutureWarning: The frame.append method is deprecated and will be removed from pandas in a future version. Use pandas.concat instead.\n",
      "  monthly_precipitation = monthly_precipitation.append({'Year':df[\"YEAR\"].iloc[i], 'Month':month[df[\"MO\"].iloc[i]-1], 'Precipitation':precipitation_sum}, ignore_index = True)\n",
      "C:\\Users\\Thejaswi\\AppData\\Local\\Temp\\ipykernel_24288\\270577164.py:6: FutureWarning: The frame.append method is deprecated and will be removed from pandas in a future version. Use pandas.concat instead.\n",
      "  monthly_precipitation = monthly_precipitation.append({'Year':df[\"YEAR\"].iloc[i], 'Month':month[df[\"MO\"].iloc[i]-1], 'Precipitation':precipitation_sum}, ignore_index = True)\n",
      "C:\\Users\\Thejaswi\\AppData\\Local\\Temp\\ipykernel_24288\\270577164.py:6: FutureWarning: The frame.append method is deprecated and will be removed from pandas in a future version. Use pandas.concat instead.\n",
      "  monthly_precipitation = monthly_precipitation.append({'Year':df[\"YEAR\"].iloc[i], 'Month':month[df[\"MO\"].iloc[i]-1], 'Precipitation':precipitation_sum}, ignore_index = True)\n",
      "C:\\Users\\Thejaswi\\AppData\\Local\\Temp\\ipykernel_24288\\270577164.py:6: FutureWarning: The frame.append method is deprecated and will be removed from pandas in a future version. Use pandas.concat instead.\n",
      "  monthly_precipitation = monthly_precipitation.append({'Year':df[\"YEAR\"].iloc[i], 'Month':month[df[\"MO\"].iloc[i]-1], 'Precipitation':precipitation_sum}, ignore_index = True)\n",
      "C:\\Users\\Thejaswi\\AppData\\Local\\Temp\\ipykernel_24288\\270577164.py:6: FutureWarning: The frame.append method is deprecated and will be removed from pandas in a future version. Use pandas.concat instead.\n",
      "  monthly_precipitation = monthly_precipitation.append({'Year':df[\"YEAR\"].iloc[i], 'Month':month[df[\"MO\"].iloc[i]-1], 'Precipitation':precipitation_sum}, ignore_index = True)\n",
      "C:\\Users\\Thejaswi\\AppData\\Local\\Temp\\ipykernel_24288\\270577164.py:6: FutureWarning: The frame.append method is deprecated and will be removed from pandas in a future version. Use pandas.concat instead.\n",
      "  monthly_precipitation = monthly_precipitation.append({'Year':df[\"YEAR\"].iloc[i], 'Month':month[df[\"MO\"].iloc[i]-1], 'Precipitation':precipitation_sum}, ignore_index = True)\n",
      "C:\\Users\\Thejaswi\\AppData\\Local\\Temp\\ipykernel_24288\\270577164.py:6: FutureWarning: The frame.append method is deprecated and will be removed from pandas in a future version. Use pandas.concat instead.\n",
      "  monthly_precipitation = monthly_precipitation.append({'Year':df[\"YEAR\"].iloc[i], 'Month':month[df[\"MO\"].iloc[i]-1], 'Precipitation':precipitation_sum}, ignore_index = True)\n",
      "C:\\Users\\Thejaswi\\AppData\\Local\\Temp\\ipykernel_24288\\270577164.py:6: FutureWarning: The frame.append method is deprecated and will be removed from pandas in a future version. Use pandas.concat instead.\n",
      "  monthly_precipitation = monthly_precipitation.append({'Year':df[\"YEAR\"].iloc[i], 'Month':month[df[\"MO\"].iloc[i]-1], 'Precipitation':precipitation_sum}, ignore_index = True)\n",
      "C:\\Users\\Thejaswi\\AppData\\Local\\Temp\\ipykernel_24288\\270577164.py:6: FutureWarning: The frame.append method is deprecated and will be removed from pandas in a future version. Use pandas.concat instead.\n",
      "  monthly_precipitation = monthly_precipitation.append({'Year':df[\"YEAR\"].iloc[i], 'Month':month[df[\"MO\"].iloc[i]-1], 'Precipitation':precipitation_sum}, ignore_index = True)\n",
      "C:\\Users\\Thejaswi\\AppData\\Local\\Temp\\ipykernel_24288\\270577164.py:6: FutureWarning: The frame.append method is deprecated and will be removed from pandas in a future version. Use pandas.concat instead.\n",
      "  monthly_precipitation = monthly_precipitation.append({'Year':df[\"YEAR\"].iloc[i], 'Month':month[df[\"MO\"].iloc[i]-1], 'Precipitation':precipitation_sum}, ignore_index = True)\n",
      "C:\\Users\\Thejaswi\\AppData\\Local\\Temp\\ipykernel_24288\\270577164.py:6: FutureWarning: The frame.append method is deprecated and will be removed from pandas in a future version. Use pandas.concat instead.\n",
      "  monthly_precipitation = monthly_precipitation.append({'Year':df[\"YEAR\"].iloc[i], 'Month':month[df[\"MO\"].iloc[i]-1], 'Precipitation':precipitation_sum}, ignore_index = True)\n",
      "C:\\Users\\Thejaswi\\AppData\\Local\\Temp\\ipykernel_24288\\270577164.py:6: FutureWarning: The frame.append method is deprecated and will be removed from pandas in a future version. Use pandas.concat instead.\n",
      "  monthly_precipitation = monthly_precipitation.append({'Year':df[\"YEAR\"].iloc[i], 'Month':month[df[\"MO\"].iloc[i]-1], 'Precipitation':precipitation_sum}, ignore_index = True)\n",
      "C:\\Users\\Thejaswi\\AppData\\Local\\Temp\\ipykernel_24288\\270577164.py:6: FutureWarning: The frame.append method is deprecated and will be removed from pandas in a future version. Use pandas.concat instead.\n",
      "  monthly_precipitation = monthly_precipitation.append({'Year':df[\"YEAR\"].iloc[i], 'Month':month[df[\"MO\"].iloc[i]-1], 'Precipitation':precipitation_sum}, ignore_index = True)\n",
      "C:\\Users\\Thejaswi\\AppData\\Local\\Temp\\ipykernel_24288\\270577164.py:6: FutureWarning: The frame.append method is deprecated and will be removed from pandas in a future version. Use pandas.concat instead.\n",
      "  monthly_precipitation = monthly_precipitation.append({'Year':df[\"YEAR\"].iloc[i], 'Month':month[df[\"MO\"].iloc[i]-1], 'Precipitation':precipitation_sum}, ignore_index = True)\n",
      "C:\\Users\\Thejaswi\\AppData\\Local\\Temp\\ipykernel_24288\\270577164.py:6: FutureWarning: The frame.append method is deprecated and will be removed from pandas in a future version. Use pandas.concat instead.\n",
      "  monthly_precipitation = monthly_precipitation.append({'Year':df[\"YEAR\"].iloc[i], 'Month':month[df[\"MO\"].iloc[i]-1], 'Precipitation':precipitation_sum}, ignore_index = True)\n",
      "C:\\Users\\Thejaswi\\AppData\\Local\\Temp\\ipykernel_24288\\270577164.py:6: FutureWarning: The frame.append method is deprecated and will be removed from pandas in a future version. Use pandas.concat instead.\n",
      "  monthly_precipitation = monthly_precipitation.append({'Year':df[\"YEAR\"].iloc[i], 'Month':month[df[\"MO\"].iloc[i]-1], 'Precipitation':precipitation_sum}, ignore_index = True)\n",
      "C:\\Users\\Thejaswi\\AppData\\Local\\Temp\\ipykernel_24288\\270577164.py:6: FutureWarning: The frame.append method is deprecated and will be removed from pandas in a future version. Use pandas.concat instead.\n",
      "  monthly_precipitation = monthly_precipitation.append({'Year':df[\"YEAR\"].iloc[i], 'Month':month[df[\"MO\"].iloc[i]-1], 'Precipitation':precipitation_sum}, ignore_index = True)\n",
      "C:\\Users\\Thejaswi\\AppData\\Local\\Temp\\ipykernel_24288\\270577164.py:6: FutureWarning: The frame.append method is deprecated and will be removed from pandas in a future version. Use pandas.concat instead.\n",
      "  monthly_precipitation = monthly_precipitation.append({'Year':df[\"YEAR\"].iloc[i], 'Month':month[df[\"MO\"].iloc[i]-1], 'Precipitation':precipitation_sum}, ignore_index = True)\n",
      "C:\\Users\\Thejaswi\\AppData\\Local\\Temp\\ipykernel_24288\\270577164.py:6: FutureWarning: The frame.append method is deprecated and will be removed from pandas in a future version. Use pandas.concat instead.\n",
      "  monthly_precipitation = monthly_precipitation.append({'Year':df[\"YEAR\"].iloc[i], 'Month':month[df[\"MO\"].iloc[i]-1], 'Precipitation':precipitation_sum}, ignore_index = True)\n",
      "C:\\Users\\Thejaswi\\AppData\\Local\\Temp\\ipykernel_24288\\270577164.py:6: FutureWarning: The frame.append method is deprecated and will be removed from pandas in a future version. Use pandas.concat instead.\n",
      "  monthly_precipitation = monthly_precipitation.append({'Year':df[\"YEAR\"].iloc[i], 'Month':month[df[\"MO\"].iloc[i]-1], 'Precipitation':precipitation_sum}, ignore_index = True)\n",
      "C:\\Users\\Thejaswi\\AppData\\Local\\Temp\\ipykernel_24288\\270577164.py:6: FutureWarning: The frame.append method is deprecated and will be removed from pandas in a future version. Use pandas.concat instead.\n",
      "  monthly_precipitation = monthly_precipitation.append({'Year':df[\"YEAR\"].iloc[i], 'Month':month[df[\"MO\"].iloc[i]-1], 'Precipitation':precipitation_sum}, ignore_index = True)\n",
      "C:\\Users\\Thejaswi\\AppData\\Local\\Temp\\ipykernel_24288\\270577164.py:6: FutureWarning: The frame.append method is deprecated and will be removed from pandas in a future version. Use pandas.concat instead.\n",
      "  monthly_precipitation = monthly_precipitation.append({'Year':df[\"YEAR\"].iloc[i], 'Month':month[df[\"MO\"].iloc[i]-1], 'Precipitation':precipitation_sum}, ignore_index = True)\n",
      "C:\\Users\\Thejaswi\\AppData\\Local\\Temp\\ipykernel_24288\\270577164.py:6: FutureWarning: The frame.append method is deprecated and will be removed from pandas in a future version. Use pandas.concat instead.\n",
      "  monthly_precipitation = monthly_precipitation.append({'Year':df[\"YEAR\"].iloc[i], 'Month':month[df[\"MO\"].iloc[i]-1], 'Precipitation':precipitation_sum}, ignore_index = True)\n"
     ]
    },
    {
     "name": "stderr",
     "output_type": "stream",
     "text": [
      "C:\\Users\\Thejaswi\\AppData\\Local\\Temp\\ipykernel_24288\\270577164.py:6: FutureWarning: The frame.append method is deprecated and will be removed from pandas in a future version. Use pandas.concat instead.\n",
      "  monthly_precipitation = monthly_precipitation.append({'Year':df[\"YEAR\"].iloc[i], 'Month':month[df[\"MO\"].iloc[i]-1], 'Precipitation':precipitation_sum}, ignore_index = True)\n",
      "C:\\Users\\Thejaswi\\AppData\\Local\\Temp\\ipykernel_24288\\270577164.py:6: FutureWarning: The frame.append method is deprecated and will be removed from pandas in a future version. Use pandas.concat instead.\n",
      "  monthly_precipitation = monthly_precipitation.append({'Year':df[\"YEAR\"].iloc[i], 'Month':month[df[\"MO\"].iloc[i]-1], 'Precipitation':precipitation_sum}, ignore_index = True)\n",
      "C:\\Users\\Thejaswi\\AppData\\Local\\Temp\\ipykernel_24288\\270577164.py:6: FutureWarning: The frame.append method is deprecated and will be removed from pandas in a future version. Use pandas.concat instead.\n",
      "  monthly_precipitation = monthly_precipitation.append({'Year':df[\"YEAR\"].iloc[i], 'Month':month[df[\"MO\"].iloc[i]-1], 'Precipitation':precipitation_sum}, ignore_index = True)\n",
      "C:\\Users\\Thejaswi\\AppData\\Local\\Temp\\ipykernel_24288\\270577164.py:6: FutureWarning: The frame.append method is deprecated and will be removed from pandas in a future version. Use pandas.concat instead.\n",
      "  monthly_precipitation = monthly_precipitation.append({'Year':df[\"YEAR\"].iloc[i], 'Month':month[df[\"MO\"].iloc[i]-1], 'Precipitation':precipitation_sum}, ignore_index = True)\n",
      "C:\\Users\\Thejaswi\\AppData\\Local\\Temp\\ipykernel_24288\\270577164.py:6: FutureWarning: The frame.append method is deprecated and will be removed from pandas in a future version. Use pandas.concat instead.\n",
      "  monthly_precipitation = monthly_precipitation.append({'Year':df[\"YEAR\"].iloc[i], 'Month':month[df[\"MO\"].iloc[i]-1], 'Precipitation':precipitation_sum}, ignore_index = True)\n",
      "C:\\Users\\Thejaswi\\AppData\\Local\\Temp\\ipykernel_24288\\270577164.py:6: FutureWarning: The frame.append method is deprecated and will be removed from pandas in a future version. Use pandas.concat instead.\n",
      "  monthly_precipitation = monthly_precipitation.append({'Year':df[\"YEAR\"].iloc[i], 'Month':month[df[\"MO\"].iloc[i]-1], 'Precipitation':precipitation_sum}, ignore_index = True)\n",
      "C:\\Users\\Thejaswi\\AppData\\Local\\Temp\\ipykernel_24288\\270577164.py:6: FutureWarning: The frame.append method is deprecated and will be removed from pandas in a future version. Use pandas.concat instead.\n",
      "  monthly_precipitation = monthly_precipitation.append({'Year':df[\"YEAR\"].iloc[i], 'Month':month[df[\"MO\"].iloc[i]-1], 'Precipitation':precipitation_sum}, ignore_index = True)\n",
      "C:\\Users\\Thejaswi\\AppData\\Local\\Temp\\ipykernel_24288\\270577164.py:6: FutureWarning: The frame.append method is deprecated and will be removed from pandas in a future version. Use pandas.concat instead.\n",
      "  monthly_precipitation = monthly_precipitation.append({'Year':df[\"YEAR\"].iloc[i], 'Month':month[df[\"MO\"].iloc[i]-1], 'Precipitation':precipitation_sum}, ignore_index = True)\n",
      "C:\\Users\\Thejaswi\\AppData\\Local\\Temp\\ipykernel_24288\\270577164.py:6: FutureWarning: The frame.append method is deprecated and will be removed from pandas in a future version. Use pandas.concat instead.\n",
      "  monthly_precipitation = monthly_precipitation.append({'Year':df[\"YEAR\"].iloc[i], 'Month':month[df[\"MO\"].iloc[i]-1], 'Precipitation':precipitation_sum}, ignore_index = True)\n",
      "C:\\Users\\Thejaswi\\AppData\\Local\\Temp\\ipykernel_24288\\270577164.py:6: FutureWarning: The frame.append method is deprecated and will be removed from pandas in a future version. Use pandas.concat instead.\n",
      "  monthly_precipitation = monthly_precipitation.append({'Year':df[\"YEAR\"].iloc[i], 'Month':month[df[\"MO\"].iloc[i]-1], 'Precipitation':precipitation_sum}, ignore_index = True)\n",
      "C:\\Users\\Thejaswi\\AppData\\Local\\Temp\\ipykernel_24288\\270577164.py:6: FutureWarning: The frame.append method is deprecated and will be removed from pandas in a future version. Use pandas.concat instead.\n",
      "  monthly_precipitation = monthly_precipitation.append({'Year':df[\"YEAR\"].iloc[i], 'Month':month[df[\"MO\"].iloc[i]-1], 'Precipitation':precipitation_sum}, ignore_index = True)\n",
      "C:\\Users\\Thejaswi\\AppData\\Local\\Temp\\ipykernel_24288\\270577164.py:6: FutureWarning: The frame.append method is deprecated and will be removed from pandas in a future version. Use pandas.concat instead.\n",
      "  monthly_precipitation = monthly_precipitation.append({'Year':df[\"YEAR\"].iloc[i], 'Month':month[df[\"MO\"].iloc[i]-1], 'Precipitation':precipitation_sum}, ignore_index = True)\n",
      "C:\\Users\\Thejaswi\\AppData\\Local\\Temp\\ipykernel_24288\\270577164.py:6: FutureWarning: The frame.append method is deprecated and will be removed from pandas in a future version. Use pandas.concat instead.\n",
      "  monthly_precipitation = monthly_precipitation.append({'Year':df[\"YEAR\"].iloc[i], 'Month':month[df[\"MO\"].iloc[i]-1], 'Precipitation':precipitation_sum}, ignore_index = True)\n",
      "C:\\Users\\Thejaswi\\AppData\\Local\\Temp\\ipykernel_24288\\270577164.py:6: FutureWarning: The frame.append method is deprecated and will be removed from pandas in a future version. Use pandas.concat instead.\n",
      "  monthly_precipitation = monthly_precipitation.append({'Year':df[\"YEAR\"].iloc[i], 'Month':month[df[\"MO\"].iloc[i]-1], 'Precipitation':precipitation_sum}, ignore_index = True)\n",
      "C:\\Users\\Thejaswi\\AppData\\Local\\Temp\\ipykernel_24288\\270577164.py:6: FutureWarning: The frame.append method is deprecated and will be removed from pandas in a future version. Use pandas.concat instead.\n",
      "  monthly_precipitation = monthly_precipitation.append({'Year':df[\"YEAR\"].iloc[i], 'Month':month[df[\"MO\"].iloc[i]-1], 'Precipitation':precipitation_sum}, ignore_index = True)\n",
      "C:\\Users\\Thejaswi\\AppData\\Local\\Temp\\ipykernel_24288\\270577164.py:6: FutureWarning: The frame.append method is deprecated and will be removed from pandas in a future version. Use pandas.concat instead.\n",
      "  monthly_precipitation = monthly_precipitation.append({'Year':df[\"YEAR\"].iloc[i], 'Month':month[df[\"MO\"].iloc[i]-1], 'Precipitation':precipitation_sum}, ignore_index = True)\n",
      "C:\\Users\\Thejaswi\\AppData\\Local\\Temp\\ipykernel_24288\\270577164.py:6: FutureWarning: The frame.append method is deprecated and will be removed from pandas in a future version. Use pandas.concat instead.\n",
      "  monthly_precipitation = monthly_precipitation.append({'Year':df[\"YEAR\"].iloc[i], 'Month':month[df[\"MO\"].iloc[i]-1], 'Precipitation':precipitation_sum}, ignore_index = True)\n",
      "C:\\Users\\Thejaswi\\AppData\\Local\\Temp\\ipykernel_24288\\270577164.py:6: FutureWarning: The frame.append method is deprecated and will be removed from pandas in a future version. Use pandas.concat instead.\n",
      "  monthly_precipitation = monthly_precipitation.append({'Year':df[\"YEAR\"].iloc[i], 'Month':month[df[\"MO\"].iloc[i]-1], 'Precipitation':precipitation_sum}, ignore_index = True)\n",
      "C:\\Users\\Thejaswi\\AppData\\Local\\Temp\\ipykernel_24288\\270577164.py:6: FutureWarning: The frame.append method is deprecated and will be removed from pandas in a future version. Use pandas.concat instead.\n",
      "  monthly_precipitation = monthly_precipitation.append({'Year':df[\"YEAR\"].iloc[i], 'Month':month[df[\"MO\"].iloc[i]-1], 'Precipitation':precipitation_sum}, ignore_index = True)\n",
      "C:\\Users\\Thejaswi\\AppData\\Local\\Temp\\ipykernel_24288\\270577164.py:6: FutureWarning: The frame.append method is deprecated and will be removed from pandas in a future version. Use pandas.concat instead.\n",
      "  monthly_precipitation = monthly_precipitation.append({'Year':df[\"YEAR\"].iloc[i], 'Month':month[df[\"MO\"].iloc[i]-1], 'Precipitation':precipitation_sum}, ignore_index = True)\n",
      "C:\\Users\\Thejaswi\\AppData\\Local\\Temp\\ipykernel_24288\\270577164.py:6: FutureWarning: The frame.append method is deprecated and will be removed from pandas in a future version. Use pandas.concat instead.\n",
      "  monthly_precipitation = monthly_precipitation.append({'Year':df[\"YEAR\"].iloc[i], 'Month':month[df[\"MO\"].iloc[i]-1], 'Precipitation':precipitation_sum}, ignore_index = True)\n",
      "C:\\Users\\Thejaswi\\AppData\\Local\\Temp\\ipykernel_24288\\270577164.py:6: FutureWarning: The frame.append method is deprecated and will be removed from pandas in a future version. Use pandas.concat instead.\n",
      "  monthly_precipitation = monthly_precipitation.append({'Year':df[\"YEAR\"].iloc[i], 'Month':month[df[\"MO\"].iloc[i]-1], 'Precipitation':precipitation_sum}, ignore_index = True)\n",
      "C:\\Users\\Thejaswi\\AppData\\Local\\Temp\\ipykernel_24288\\270577164.py:6: FutureWarning: The frame.append method is deprecated and will be removed from pandas in a future version. Use pandas.concat instead.\n",
      "  monthly_precipitation = monthly_precipitation.append({'Year':df[\"YEAR\"].iloc[i], 'Month':month[df[\"MO\"].iloc[i]-1], 'Precipitation':precipitation_sum}, ignore_index = True)\n",
      "C:\\Users\\Thejaswi\\AppData\\Local\\Temp\\ipykernel_24288\\270577164.py:6: FutureWarning: The frame.append method is deprecated and will be removed from pandas in a future version. Use pandas.concat instead.\n",
      "  monthly_precipitation = monthly_precipitation.append({'Year':df[\"YEAR\"].iloc[i], 'Month':month[df[\"MO\"].iloc[i]-1], 'Precipitation':precipitation_sum}, ignore_index = True)\n"
     ]
    },
    {
     "name": "stderr",
     "output_type": "stream",
     "text": [
      "C:\\Users\\Thejaswi\\AppData\\Local\\Temp\\ipykernel_24288\\270577164.py:6: FutureWarning: The frame.append method is deprecated and will be removed from pandas in a future version. Use pandas.concat instead.\n",
      "  monthly_precipitation = monthly_precipitation.append({'Year':df[\"YEAR\"].iloc[i], 'Month':month[df[\"MO\"].iloc[i]-1], 'Precipitation':precipitation_sum}, ignore_index = True)\n",
      "C:\\Users\\Thejaswi\\AppData\\Local\\Temp\\ipykernel_24288\\270577164.py:6: FutureWarning: The frame.append method is deprecated and will be removed from pandas in a future version. Use pandas.concat instead.\n",
      "  monthly_precipitation = monthly_precipitation.append({'Year':df[\"YEAR\"].iloc[i], 'Month':month[df[\"MO\"].iloc[i]-1], 'Precipitation':precipitation_sum}, ignore_index = True)\n",
      "C:\\Users\\Thejaswi\\AppData\\Local\\Temp\\ipykernel_24288\\270577164.py:6: FutureWarning: The frame.append method is deprecated and will be removed from pandas in a future version. Use pandas.concat instead.\n",
      "  monthly_precipitation = monthly_precipitation.append({'Year':df[\"YEAR\"].iloc[i], 'Month':month[df[\"MO\"].iloc[i]-1], 'Precipitation':precipitation_sum}, ignore_index = True)\n",
      "C:\\Users\\Thejaswi\\AppData\\Local\\Temp\\ipykernel_24288\\270577164.py:6: FutureWarning: The frame.append method is deprecated and will be removed from pandas in a future version. Use pandas.concat instead.\n",
      "  monthly_precipitation = monthly_precipitation.append({'Year':df[\"YEAR\"].iloc[i], 'Month':month[df[\"MO\"].iloc[i]-1], 'Precipitation':precipitation_sum}, ignore_index = True)\n",
      "C:\\Users\\Thejaswi\\AppData\\Local\\Temp\\ipykernel_24288\\270577164.py:6: FutureWarning: The frame.append method is deprecated and will be removed from pandas in a future version. Use pandas.concat instead.\n",
      "  monthly_precipitation = monthly_precipitation.append({'Year':df[\"YEAR\"].iloc[i], 'Month':month[df[\"MO\"].iloc[i]-1], 'Precipitation':precipitation_sum}, ignore_index = True)\n",
      "C:\\Users\\Thejaswi\\AppData\\Local\\Temp\\ipykernel_24288\\270577164.py:6: FutureWarning: The frame.append method is deprecated and will be removed from pandas in a future version. Use pandas.concat instead.\n",
      "  monthly_precipitation = monthly_precipitation.append({'Year':df[\"YEAR\"].iloc[i], 'Month':month[df[\"MO\"].iloc[i]-1], 'Precipitation':precipitation_sum}, ignore_index = True)\n",
      "C:\\Users\\Thejaswi\\AppData\\Local\\Temp\\ipykernel_24288\\270577164.py:6: FutureWarning: The frame.append method is deprecated and will be removed from pandas in a future version. Use pandas.concat instead.\n",
      "  monthly_precipitation = monthly_precipitation.append({'Year':df[\"YEAR\"].iloc[i], 'Month':month[df[\"MO\"].iloc[i]-1], 'Precipitation':precipitation_sum}, ignore_index = True)\n",
      "C:\\Users\\Thejaswi\\AppData\\Local\\Temp\\ipykernel_24288\\270577164.py:6: FutureWarning: The frame.append method is deprecated and will be removed from pandas in a future version. Use pandas.concat instead.\n",
      "  monthly_precipitation = monthly_precipitation.append({'Year':df[\"YEAR\"].iloc[i], 'Month':month[df[\"MO\"].iloc[i]-1], 'Precipitation':precipitation_sum}, ignore_index = True)\n",
      "C:\\Users\\Thejaswi\\AppData\\Local\\Temp\\ipykernel_24288\\270577164.py:6: FutureWarning: The frame.append method is deprecated and will be removed from pandas in a future version. Use pandas.concat instead.\n",
      "  monthly_precipitation = monthly_precipitation.append({'Year':df[\"YEAR\"].iloc[i], 'Month':month[df[\"MO\"].iloc[i]-1], 'Precipitation':precipitation_sum}, ignore_index = True)\n",
      "C:\\Users\\Thejaswi\\AppData\\Local\\Temp\\ipykernel_24288\\270577164.py:6: FutureWarning: The frame.append method is deprecated and will be removed from pandas in a future version. Use pandas.concat instead.\n",
      "  monthly_precipitation = monthly_precipitation.append({'Year':df[\"YEAR\"].iloc[i], 'Month':month[df[\"MO\"].iloc[i]-1], 'Precipitation':precipitation_sum}, ignore_index = True)\n",
      "C:\\Users\\Thejaswi\\AppData\\Local\\Temp\\ipykernel_24288\\270577164.py:6: FutureWarning: The frame.append method is deprecated and will be removed from pandas in a future version. Use pandas.concat instead.\n",
      "  monthly_precipitation = monthly_precipitation.append({'Year':df[\"YEAR\"].iloc[i], 'Month':month[df[\"MO\"].iloc[i]-1], 'Precipitation':precipitation_sum}, ignore_index = True)\n",
      "C:\\Users\\Thejaswi\\AppData\\Local\\Temp\\ipykernel_24288\\270577164.py:6: FutureWarning: The frame.append method is deprecated and will be removed from pandas in a future version. Use pandas.concat instead.\n",
      "  monthly_precipitation = monthly_precipitation.append({'Year':df[\"YEAR\"].iloc[i], 'Month':month[df[\"MO\"].iloc[i]-1], 'Precipitation':precipitation_sum}, ignore_index = True)\n",
      "C:\\Users\\Thejaswi\\AppData\\Local\\Temp\\ipykernel_24288\\270577164.py:6: FutureWarning: The frame.append method is deprecated and will be removed from pandas in a future version. Use pandas.concat instead.\n",
      "  monthly_precipitation = monthly_precipitation.append({'Year':df[\"YEAR\"].iloc[i], 'Month':month[df[\"MO\"].iloc[i]-1], 'Precipitation':precipitation_sum}, ignore_index = True)\n",
      "C:\\Users\\Thejaswi\\AppData\\Local\\Temp\\ipykernel_24288\\270577164.py:6: FutureWarning: The frame.append method is deprecated and will be removed from pandas in a future version. Use pandas.concat instead.\n",
      "  monthly_precipitation = monthly_precipitation.append({'Year':df[\"YEAR\"].iloc[i], 'Month':month[df[\"MO\"].iloc[i]-1], 'Precipitation':precipitation_sum}, ignore_index = True)\n",
      "C:\\Users\\Thejaswi\\AppData\\Local\\Temp\\ipykernel_24288\\270577164.py:6: FutureWarning: The frame.append method is deprecated and will be removed from pandas in a future version. Use pandas.concat instead.\n",
      "  monthly_precipitation = monthly_precipitation.append({'Year':df[\"YEAR\"].iloc[i], 'Month':month[df[\"MO\"].iloc[i]-1], 'Precipitation':precipitation_sum}, ignore_index = True)\n",
      "C:\\Users\\Thejaswi\\AppData\\Local\\Temp\\ipykernel_24288\\270577164.py:6: FutureWarning: The frame.append method is deprecated and will be removed from pandas in a future version. Use pandas.concat instead.\n",
      "  monthly_precipitation = monthly_precipitation.append({'Year':df[\"YEAR\"].iloc[i], 'Month':month[df[\"MO\"].iloc[i]-1], 'Precipitation':precipitation_sum}, ignore_index = True)\n",
      "C:\\Users\\Thejaswi\\AppData\\Local\\Temp\\ipykernel_24288\\270577164.py:6: FutureWarning: The frame.append method is deprecated and will be removed from pandas in a future version. Use pandas.concat instead.\n",
      "  monthly_precipitation = monthly_precipitation.append({'Year':df[\"YEAR\"].iloc[i], 'Month':month[df[\"MO\"].iloc[i]-1], 'Precipitation':precipitation_sum}, ignore_index = True)\n",
      "C:\\Users\\Thejaswi\\AppData\\Local\\Temp\\ipykernel_24288\\270577164.py:6: FutureWarning: The frame.append method is deprecated and will be removed from pandas in a future version. Use pandas.concat instead.\n",
      "  monthly_precipitation = monthly_precipitation.append({'Year':df[\"YEAR\"].iloc[i], 'Month':month[df[\"MO\"].iloc[i]-1], 'Precipitation':precipitation_sum}, ignore_index = True)\n",
      "C:\\Users\\Thejaswi\\AppData\\Local\\Temp\\ipykernel_24288\\270577164.py:6: FutureWarning: The frame.append method is deprecated and will be removed from pandas in a future version. Use pandas.concat instead.\n",
      "  monthly_precipitation = monthly_precipitation.append({'Year':df[\"YEAR\"].iloc[i], 'Month':month[df[\"MO\"].iloc[i]-1], 'Precipitation':precipitation_sum}, ignore_index = True)\n",
      "C:\\Users\\Thejaswi\\AppData\\Local\\Temp\\ipykernel_24288\\270577164.py:6: FutureWarning: The frame.append method is deprecated and will be removed from pandas in a future version. Use pandas.concat instead.\n",
      "  monthly_precipitation = monthly_precipitation.append({'Year':df[\"YEAR\"].iloc[i], 'Month':month[df[\"MO\"].iloc[i]-1], 'Precipitation':precipitation_sum}, ignore_index = True)\n",
      "C:\\Users\\Thejaswi\\AppData\\Local\\Temp\\ipykernel_24288\\270577164.py:6: FutureWarning: The frame.append method is deprecated and will be removed from pandas in a future version. Use pandas.concat instead.\n",
      "  monthly_precipitation = monthly_precipitation.append({'Year':df[\"YEAR\"].iloc[i], 'Month':month[df[\"MO\"].iloc[i]-1], 'Precipitation':precipitation_sum}, ignore_index = True)\n",
      "C:\\Users\\Thejaswi\\AppData\\Local\\Temp\\ipykernel_24288\\270577164.py:6: FutureWarning: The frame.append method is deprecated and will be removed from pandas in a future version. Use pandas.concat instead.\n",
      "  monthly_precipitation = monthly_precipitation.append({'Year':df[\"YEAR\"].iloc[i], 'Month':month[df[\"MO\"].iloc[i]-1], 'Precipitation':precipitation_sum}, ignore_index = True)\n",
      "C:\\Users\\Thejaswi\\AppData\\Local\\Temp\\ipykernel_24288\\270577164.py:6: FutureWarning: The frame.append method is deprecated and will be removed from pandas in a future version. Use pandas.concat instead.\n",
      "  monthly_precipitation = monthly_precipitation.append({'Year':df[\"YEAR\"].iloc[i], 'Month':month[df[\"MO\"].iloc[i]-1], 'Precipitation':precipitation_sum}, ignore_index = True)\n",
      "C:\\Users\\Thejaswi\\AppData\\Local\\Temp\\ipykernel_24288\\270577164.py:6: FutureWarning: The frame.append method is deprecated and will be removed from pandas in a future version. Use pandas.concat instead.\n",
      "  monthly_precipitation = monthly_precipitation.append({'Year':df[\"YEAR\"].iloc[i], 'Month':month[df[\"MO\"].iloc[i]-1], 'Precipitation':precipitation_sum}, ignore_index = True)\n"
     ]
    },
    {
     "name": "stderr",
     "output_type": "stream",
     "text": [
      "C:\\Users\\Thejaswi\\AppData\\Local\\Temp\\ipykernel_24288\\270577164.py:6: FutureWarning: The frame.append method is deprecated and will be removed from pandas in a future version. Use pandas.concat instead.\n",
      "  monthly_precipitation = monthly_precipitation.append({'Year':df[\"YEAR\"].iloc[i], 'Month':month[df[\"MO\"].iloc[i]-1], 'Precipitation':precipitation_sum}, ignore_index = True)\n"
     ]
    }
   ],
   "source": [
    "month = ['Jan', 'Feb', 'Mar', 'Apr','May', 'Jun', 'Jul', 'Aug', 'Sept', 'Oct', \"Nov\", \"Dec\"]\n",
    "\n",
    "precipitation_sum = 0\n",
    "for i in range(1,len(df)):\n",
    "    if df[\"MO\"].iloc[i]!=df[\"MO\"].iloc[i-1]:\n",
    "        monthly_precipitation = monthly_precipitation.append({'Year':df[\"YEAR\"].iloc[i], 'Month':month[df[\"MO\"].iloc[i]-1], 'Precipitation':precipitation_sum}, ignore_index = True)\n",
    "        precipitation_sum = 0\n",
    "    else:\n",
    "        precipitation_sum += df[\"PRECTOTCORR\"].iloc[i]"
   ]
  },
  {
   "cell_type": "code",
   "execution_count": 122,
   "id": "25998523",
   "metadata": {},
   "outputs": [
    {
     "data": {
      "text/plain": [
       "990.7999999999988"
      ]
     },
     "execution_count": 122,
     "metadata": {},
     "output_type": "execute_result"
    }
   ],
   "source": [
    "max(monthly_precipitation[\"Precipitation\"])"
   ]
  },
  {
   "cell_type": "code",
   "execution_count": 123,
   "id": "cf23352b",
   "metadata": {},
   "outputs": [
    {
     "data": {
      "image/png": "[encoded data removed]",
      "text/plain": [
       "<Figure size 1296x360 with 1 Axes>"
      ]
     },
     "metadata": {
      "needs_background": "light"
     },
     "output_type": "display_data"
    }
   ],
   "source": [
    "fig, ax = plt.subplots(figsize=(18,5))\n",
    "w = 0.1\n",
    "ax.bar(monthly_precipitation[\"Month\"].iloc[0:11]-5*w, monthly_precipitation[\"Precipitation\"].iloc[0:11], width=w, color='b', align='center')\n",
    "ax.bar(monthly_precipitation[\"Month\"].iloc[11:23]-4*w, monthly_precipitation[\"Precipitation\"].iloc[11:23], width=w, color='b', align='center')\n",
    "ax.bar(monthly_precipitation[\"Month\"].iloc[23:35]-3*w, monthly_precipitation[\"Precipitation\"].iloc[23:35], width=w, color='b', align='center')\n",
    "ax.bar(monthly_precipitation[\"Month\"].iloc[35:47]-2*w, monthly_precipitation[\"Precipitation\"].iloc[35:47], width=w, color='b', align='center')\n",
    "ax.bar(monthly_precipitation[\"Month\"].iloc[47:59]-w, monthly_precipitation[\"Precipitation\"].iloc[47:59], width=w, color='b', align='center')\n",
    "ax.bar(monthly_precipitation[\"Month\"].iloc[59:71]+w, monthly_precipitation[\"Precipitation\"].iloc[59:71], width=w, color='b', align='center')\n",
    "ax.bar(monthly_precipitation[\"Month\"].iloc[71:83]+2*w, monthly_precipitation[\"Precipitation\"].iloc[71:83], width=w, color='b', align='center')\n",
    "ax.bar(monthly_precipitation[\"Month\"].iloc[83:95]+3*w, monthly_precipitation[\"Precipitation\"].iloc[83:95], width=w, color='b', align='center')\n",
    "ax.bar(monthly_precipitation[\"Month\"].iloc[95:107]+4*w, monthly_precipitation[\"Precipitation\"].iloc[95:107], width=w, color='b', align='center')\n",
    "ax.bar(monthly_precipitation[\"Month\"].iloc[107:119]+5*w, monthly_precipitation[\"Precipitation\"].iloc[107:119], width=w, color='b', align='center')\n",
    "\n",
    "# ax.bar(x, z, width=w, color='g', align='center')\n",
    "# ax.bar(x+w, k, width=w, color='r', align='center')\n",
    "ax.autoscale(tight=True)"
   ]
  },
  {
   "cell_type": "code",
   "execution_count": 45,
   "id": "62a96a01",
   "metadata": {},
   "outputs": [
    {
     "data": {
      "text/plain": [
       "<AxesSubplot:xlabel='PRECTOTCORR', ylabel='T2M'>"
      ]
     },
     "execution_count": 45,
     "metadata": {},
     "output_type": "execute_result"
    },
    {
     "data": {
      "image/png": "[encoded data removed]",
      "text/plain": [
       "<Figure size 432x288 with 1 Axes>"
      ]
     },
     "metadata": {
      "needs_background": "light"
     },
     "output_type": "display_data"
    }
   ],
   "source": [
    "sns.scatterplot(data = df, x=\"PRECTOTCORR\", y=\"T2M\")"
   ]
  },
  {
   "cell_type": "code",
   "execution_count": 48,
   "id": "4de026db",
   "metadata": {},
   "outputs": [
    {
     "data": {
      "text/plain": [
       "0.18653526915461544"
      ]
     },
     "execution_count": 48,
     "metadata": {},
     "output_type": "execute_result"
    }
   ],
   "source": [
    "df[\"PRECTOTCORR\"].iloc[7317:8036].corr(df[\"T2M\"].iloc[7317:8036])"
   ]
  },
  {
   "cell_type": "code",
   "execution_count": 49,
   "id": "4994c649",
   "metadata": {},
   "outputs": [
    {
     "data": {
      "text/plain": [
       "-0.22819262080623712"
      ]
     },
     "execution_count": 49,
     "metadata": {},
     "output_type": "execute_result"
    }
   ],
   "source": [
    "df[\"PRECTOTCORR\"].iloc[7317:8036].corr(df[\"PS\"].iloc[7317:8036])"
   ]
  },
  {
   "cell_type": "code",
   "execution_count": 54,
   "id": "4963539d",
   "metadata": {},
   "outputs": [],
   "source": [
    "precipitationGreaterThanZero = pd.DataFrame(columns=df.columns)"
   ]
  },
  {
   "cell_type": "code",
   "execution_count": 55,
   "id": "668b3c4e",
   "metadata": {},
   "outputs": [
    {
     "data": {
      "text/html": [
       "<div>\n",
       "<style scoped>\n",
       "    .dataframe tbody tr th:only-of-type {\n",
       "        vertical-align: middle;\n",
       "    }\n",
       "\n",
       "    .dataframe tbody tr th {\n",
       "        vertical-align: top;\n",
       "    }\n",
       "\n",
       "    .dataframe thead th {\n",
       "        text-align: right;\n",
       "    }\n",
       "</style>\n",
       "<table border=\"1\" class=\"dataframe\">\n",
       "  <thead>\n",
       "    <tr style=\"text-align: right;\">\n",
       "      <th></th>\n",
       "      <th>YEAR</th>\n",
       "      <th>MO</th>\n",
       "      <th>DY</th>\n",
       "      <th>HR</th>\n",
       "      <th>DATE</th>\n",
       "      <th>DATE_HOUR</th>\n",
       "      <th>T2M</th>\n",
       "      <th>QV2M</th>\n",
       "      <th>PRECTOTCORR</th>\n",
       "      <th>WS10M</th>\n",
       "      <th>PS</th>\n",
       "      <th>ALLSKY_SFC_UV_INDEX</th>\n",
       "      <th>T2MDEW</th>\n",
       "      <th>T2MWET</th>\n",
       "      <th>WD10M</th>\n",
       "      <th>WS10M.1</th>\n",
       "    </tr>\n",
       "  </thead>\n",
       "  <tbody>\n",
       "  </tbody>\n",
       "</table>\n",
       "</div>"
      ],
      "text/plain": [
       "Empty DataFrame\n",
       "Columns: [YEAR, MO, DY, HR, DATE, DATE_HOUR, T2M, QV2M, PRECTOTCORR, WS10M, PS, ALLSKY_SFC_UV_INDEX, T2MDEW, T2MWET, WD10M, WS10M.1]\n",
       "Index: []"
      ]
     },
     "execution_count": 55,
     "metadata": {},
     "output_type": "execute_result"
    }
   ],
   "source": [
    "precipitationGreaterThanZero"
   ]
  },
  {
   "cell_type": "code",
   "execution_count": 88,
   "id": "134569d4",
   "metadata": {},
   "outputs": [
    {
     "data": {
      "text/html": [
       "<div>\n",
       "<style scoped>\n",
       "    .dataframe tbody tr th:only-of-type {\n",
       "        vertical-align: middle;\n",
       "    }\n",
       "\n",
       "    .dataframe tbody tr th {\n",
       "        vertical-align: top;\n",
       "    }\n",
       "\n",
       "    .dataframe thead th {\n",
       "        text-align: right;\n",
       "    }\n",
       "</style>\n",
       "<table border=\"1\" class=\"dataframe\">\n",
       "  <thead>\n",
       "    <tr style=\"text-align: right;\">\n",
       "      <th></th>\n",
       "      <th>YEAR</th>\n",
       "      <th>MO</th>\n",
       "      <th>DY</th>\n",
       "      <th>HR</th>\n",
       "      <th>DATE</th>\n",
       "      <th>DATE_HOUR</th>\n",
       "      <th>T2M</th>\n",
       "      <th>QV2M</th>\n",
       "      <th>PRECTOTCORR</th>\n",
       "      <th>WS10M</th>\n",
       "      <th>PS</th>\n",
       "      <th>ALLSKY_SFC_UV_INDEX</th>\n",
       "      <th>T2MDEW</th>\n",
       "      <th>T2MWET</th>\n",
       "      <th>WD10M</th>\n",
       "      <th>WS10M.1</th>\n",
       "    </tr>\n",
       "  </thead>\n",
       "  <tbody>\n",
       "    <tr>\n",
       "      <th>0</th>\n",
       "      <td>2012</td>\n",
       "      <td>1</td>\n",
       "      <td>1</td>\n",
       "      <td>5</td>\n",
       "      <td>01-01-2012</td>\n",
       "      <td>1-1-2012 Hr - 5</td>\n",
       "      <td>23.53</td>\n",
       "      <td>17.21</td>\n",
       "      <td>0.51</td>\n",
       "      <td>3.22</td>\n",
       "      <td>100.67</td>\n",
       "      <td>0.00</td>\n",
       "      <td>22.71</td>\n",
       "      <td>23.12</td>\n",
       "      <td>107.64</td>\n",
       "      <td>3.22</td>\n",
       "    </tr>\n",
       "    <tr>\n",
       "      <th>1</th>\n",
       "      <td>2012</td>\n",
       "      <td>1</td>\n",
       "      <td>1</td>\n",
       "      <td>6</td>\n",
       "      <td>01-01-2012</td>\n",
       "      <td>1-1-2012 Hr - 6</td>\n",
       "      <td>24.30</td>\n",
       "      <td>17.76</td>\n",
       "      <td>0.49</td>\n",
       "      <td>3.20</td>\n",
       "      <td>100.76</td>\n",
       "      <td>0.02</td>\n",
       "      <td>23.21</td>\n",
       "      <td>23.76</td>\n",
       "      <td>110.43</td>\n",
       "      <td>3.20</td>\n",
       "    </tr>\n",
       "    <tr>\n",
       "      <th>2</th>\n",
       "      <td>2012</td>\n",
       "      <td>1</td>\n",
       "      <td>1</td>\n",
       "      <td>7</td>\n",
       "      <td>01-01-2012</td>\n",
       "      <td>1-1-2012 Hr - 7</td>\n",
       "      <td>25.62</td>\n",
       "      <td>18.37</td>\n",
       "      <td>0.50</td>\n",
       "      <td>3.99</td>\n",
       "      <td>100.86</td>\n",
       "      <td>0.52</td>\n",
       "      <td>23.81</td>\n",
       "      <td>24.72</td>\n",
       "      <td>113.76</td>\n",
       "      <td>3.99</td>\n",
       "    </tr>\n",
       "    <tr>\n",
       "      <th>3</th>\n",
       "      <td>2012</td>\n",
       "      <td>1</td>\n",
       "      <td>1</td>\n",
       "      <td>8</td>\n",
       "      <td>01-01-2012</td>\n",
       "      <td>1-1-2012 Hr - 8</td>\n",
       "      <td>26.51</td>\n",
       "      <td>18.43</td>\n",
       "      <td>0.45</td>\n",
       "      <td>4.69</td>\n",
       "      <td>100.90</td>\n",
       "      <td>1.73</td>\n",
       "      <td>23.86</td>\n",
       "      <td>25.18</td>\n",
       "      <td>116.82</td>\n",
       "      <td>4.69</td>\n",
       "    </tr>\n",
       "    <tr>\n",
       "      <th>4</th>\n",
       "      <td>2012</td>\n",
       "      <td>1</td>\n",
       "      <td>1</td>\n",
       "      <td>9</td>\n",
       "      <td>01-01-2012</td>\n",
       "      <td>1-1-2012 Hr - 9</td>\n",
       "      <td>27.32</td>\n",
       "      <td>18.37</td>\n",
       "      <td>0.44</td>\n",
       "      <td>5.18</td>\n",
       "      <td>100.87</td>\n",
       "      <td>3.95</td>\n",
       "      <td>23.82</td>\n",
       "      <td>25.57</td>\n",
       "      <td>118.07</td>\n",
       "      <td>5.18</td>\n",
       "    </tr>\n",
       "    <tr>\n",
       "      <th>...</th>\n",
       "      <td>...</td>\n",
       "      <td>...</td>\n",
       "      <td>...</td>\n",
       "      <td>...</td>\n",
       "      <td>...</td>\n",
       "      <td>...</td>\n",
       "      <td>...</td>\n",
       "      <td>...</td>\n",
       "      <td>...</td>\n",
       "      <td>...</td>\n",
       "      <td>...</td>\n",
       "      <td>...</td>\n",
       "      <td>...</td>\n",
       "      <td>...</td>\n",
       "      <td>...</td>\n",
       "      <td>...</td>\n",
       "    </tr>\n",
       "    <tr>\n",
       "      <th>87691</th>\n",
       "      <td>2022</td>\n",
       "      <td>1</td>\n",
       "      <td>2</td>\n",
       "      <td>0</td>\n",
       "      <td>02-01-2022</td>\n",
       "      <td>2-1-2022 Hr - 0</td>\n",
       "      <td>23.69</td>\n",
       "      <td>16.48</td>\n",
       "      <td>0.06</td>\n",
       "      <td>5.37</td>\n",
       "      <td>100.98</td>\n",
       "      <td>0.00</td>\n",
       "      <td>22.06</td>\n",
       "      <td>22.88</td>\n",
       "      <td>42.64</td>\n",
       "      <td>5.37</td>\n",
       "    </tr>\n",
       "    <tr>\n",
       "      <th>87692</th>\n",
       "      <td>2022</td>\n",
       "      <td>1</td>\n",
       "      <td>2</td>\n",
       "      <td>1</td>\n",
       "      <td>02-01-2022</td>\n",
       "      <td>2-1-2022 Hr - 1</td>\n",
       "      <td>23.51</td>\n",
       "      <td>16.36</td>\n",
       "      <td>0.06</td>\n",
       "      <td>5.22</td>\n",
       "      <td>100.94</td>\n",
       "      <td>0.00</td>\n",
       "      <td>21.93</td>\n",
       "      <td>22.73</td>\n",
       "      <td>40.15</td>\n",
       "      <td>5.22</td>\n",
       "    </tr>\n",
       "    <tr>\n",
       "      <th>87693</th>\n",
       "      <td>2022</td>\n",
       "      <td>1</td>\n",
       "      <td>2</td>\n",
       "      <td>2</td>\n",
       "      <td>02-01-2022</td>\n",
       "      <td>2-1-2022 Hr - 2</td>\n",
       "      <td>23.34</td>\n",
       "      <td>16.17</td>\n",
       "      <td>0.05</td>\n",
       "      <td>4.99</td>\n",
       "      <td>100.89</td>\n",
       "      <td>0.00</td>\n",
       "      <td>21.74</td>\n",
       "      <td>22.55</td>\n",
       "      <td>41.25</td>\n",
       "      <td>4.99</td>\n",
       "    </tr>\n",
       "    <tr>\n",
       "      <th>87694</th>\n",
       "      <td>2022</td>\n",
       "      <td>1</td>\n",
       "      <td>2</td>\n",
       "      <td>3</td>\n",
       "      <td>02-01-2022</td>\n",
       "      <td>2-1-2022 Hr - 3</td>\n",
       "      <td>23.20</td>\n",
       "      <td>16.05</td>\n",
       "      <td>0.05</td>\n",
       "      <td>4.52</td>\n",
       "      <td>100.88</td>\n",
       "      <td>0.00</td>\n",
       "      <td>21.58</td>\n",
       "      <td>22.39</td>\n",
       "      <td>44.23</td>\n",
       "      <td>4.52</td>\n",
       "    </tr>\n",
       "    <tr>\n",
       "      <th>87695</th>\n",
       "      <td>2022</td>\n",
       "      <td>1</td>\n",
       "      <td>2</td>\n",
       "      <td>4</td>\n",
       "      <td>02-01-2022</td>\n",
       "      <td>2-1-2022 Hr - 4</td>\n",
       "      <td>23.06</td>\n",
       "      <td>15.87</td>\n",
       "      <td>0.04</td>\n",
       "      <td>4.30</td>\n",
       "      <td>100.90</td>\n",
       "      <td>0.00</td>\n",
       "      <td>21.43</td>\n",
       "      <td>22.24</td>\n",
       "      <td>46.18</td>\n",
       "      <td>4.30</td>\n",
       "    </tr>\n",
       "  </tbody>\n",
       "</table>\n",
       "<p>40977 rows × 16 columns</p>\n",
       "</div>"
      ],
      "text/plain": [
       "       YEAR  MO  DY  HR        DATE        DATE_HOUR    T2M   QV2M  \\\n",
       "0      2012   1   1   5  01-01-2012  1-1-2012 Hr - 5  23.53  17.21   \n",
       "1      2012   1   1   6  01-01-2012  1-1-2012 Hr - 6  24.30  17.76   \n",
       "2      2012   1   1   7  01-01-2012  1-1-2012 Hr - 7  25.62  18.37   \n",
       "3      2012   1   1   8  01-01-2012  1-1-2012 Hr - 8  26.51  18.43   \n",
       "4      2012   1   1   9  01-01-2012  1-1-2012 Hr - 9  27.32  18.37   \n",
       "...     ...  ..  ..  ..         ...              ...    ...    ...   \n",
       "87691  2022   1   2   0  02-01-2022  2-1-2022 Hr - 0  23.69  16.48   \n",
       "87692  2022   1   2   1  02-01-2022  2-1-2022 Hr - 1  23.51  16.36   \n",
       "87693  2022   1   2   2  02-01-2022  2-1-2022 Hr - 2  23.34  16.17   \n",
       "87694  2022   1   2   3  02-01-2022  2-1-2022 Hr - 3  23.20  16.05   \n",
       "87695  2022   1   2   4  02-01-2022  2-1-2022 Hr - 4  23.06  15.87   \n",
       "\n",
       "       PRECTOTCORR  WS10M      PS  ALLSKY_SFC_UV_INDEX  T2MDEW  T2MWET  \\\n",
       "0             0.51   3.22  100.67                 0.00   22.71   23.12   \n",
       "1             0.49   3.20  100.76                 0.02   23.21   23.76   \n",
       "2             0.50   3.99  100.86                 0.52   23.81   24.72   \n",
       "3             0.45   4.69  100.90                 1.73   23.86   25.18   \n",
       "4             0.44   5.18  100.87                 3.95   23.82   25.57   \n",
       "...            ...    ...     ...                  ...     ...     ...   \n",
       "87691         0.06   5.37  100.98                 0.00   22.06   22.88   \n",
       "87692         0.06   5.22  100.94                 0.00   21.93   22.73   \n",
       "87693         0.05   4.99  100.89                 0.00   21.74   22.55   \n",
       "87694         0.05   4.52  100.88                 0.00   21.58   22.39   \n",
       "87695         0.04   4.30  100.90                 0.00   21.43   22.24   \n",
       "\n",
       "        WD10M  WS10M.1  \n",
       "0      107.64     3.22  \n",
       "1      110.43     3.20  \n",
       "2      113.76     3.99  \n",
       "3      116.82     4.69  \n",
       "4      118.07     5.18  \n",
       "...       ...      ...  \n",
       "87691   42.64     5.37  \n",
       "87692   40.15     5.22  \n",
       "87693   41.25     4.99  \n",
       "87694   44.23     4.52  \n",
       "87695   46.18     4.30  \n",
       "\n",
       "[40977 rows x 16 columns]"
      ]
     },
     "execution_count": 88,
     "metadata": {},
     "output_type": "execute_result"
    }
   ],
   "source": [
    "df.loc[df['PRECTOTCORR'] > 0]\n"
   ]
  },
  {
   "cell_type": "code",
   "execution_count": 89,
   "id": "c2e22295",
   "metadata": {},
   "outputs": [
    {
     "data": {
      "text/plain": [
       "-0.13997059996944775"
      ]
     },
     "execution_count": 89,
     "metadata": {},
     "output_type": "execute_result"
    }
   ],
   "source": [
    "df.loc[df['PRECTOTCORR'] > 0][\"PRECTOTCORR\"].corr(df.loc[df['PRECTOTCORR'] > 0][\"T2M\"]) "
   ]
  },
  {
   "cell_type": "code",
   "execution_count": 95,
   "id": "ab1506c6",
   "metadata": {},
   "outputs": [
    {
     "data": {
      "text/plain": [
       "-0.3228408615687973"
      ]
     },
     "execution_count": 95,
     "metadata": {},
     "output_type": "execute_result"
    }
   ],
   "source": [
    "df.loc[df['PRECTOTCORR'] > 4.625][\"PRECTOTCORR\"].corr(df.loc[df['PRECTOTCORR'] > 4.625][\"T2M\"]) #Correlation between precipitation and temperature exists when it fucking rains and not otherwise. So if we have a threshold, the correlation is higher."
   ]
  },
  {
   "cell_type": "code",
   "execution_count": 98,
   "id": "36cca26b",
   "metadata": {},
   "outputs": [
    {
     "data": {
      "text/plain": [
       "<AxesSubplot:xlabel='PRECTOTCORR', ylabel='T2M'>"
      ]
     },
     "execution_count": 98,
     "metadata": {},
     "output_type": "execute_result"
    },
    {
     "data": {
      "image/png": "[encoded data removed]",
      "text/plain": [
       "<Figure size 432x288 with 1 Axes>"
      ]
     },
     "metadata": {
      "needs_background": "light"
     },
     "output_type": "display_data"
    }
   ],
   "source": [
    "sns.scatterplot(data=df.loc[df['PRECTOTCORR'] > 4.625],x=\"PRECTOTCORR\", y = \"T2M\") #temperature vs precipitation"
   ]
  },
  {
   "cell_type": "code",
   "execution_count": 110,
   "id": "f16b8385",
   "metadata": {},
   "outputs": [
    {
     "data": {
      "text/plain": [
       "0.6083666910246559"
      ]
     },
     "execution_count": 110,
     "metadata": {},
     "output_type": "execute_result"
    }
   ],
   "source": [
    "df.loc[df['PRECTOTCORR'] > 10][\"PRECTOTCORR\"].corr(df.loc[df['PRECTOTCORR'] > 10][\"QV2M\"])"
   ]
  },
  {
   "cell_type": "code",
   "execution_count": 111,
   "id": "9412072d",
   "metadata": {},
   "outputs": [
    {
     "data": {
      "text/plain": [
       "<AxesSubplot:xlabel='PRECTOTCORR', ylabel='QV2M'>"
      ]
     },
     "execution_count": 111,
     "metadata": {},
     "output_type": "execute_result"
    },
    {
     "data": {
      "image/png": "[encoded data removed]",
      "text/plain": [
       "<Figure size 432x288 with 1 Axes>"
      ]
     },
     "metadata": {
      "needs_background": "light"
     },
     "output_type": "display_data"
    }
   ],
   "source": [
    "sns.scatterplot(data=df.loc[df['PRECTOTCORR'] > 10],x=\"PRECTOTCORR\", y = \"QV2M\")"
   ]
  },
  {
   "cell_type": "code",
   "execution_count": 84,
   "id": "8f5d0854",
   "metadata": {},
   "outputs": [
    {
     "data": {
      "text/plain": [
       "[<matplotlib.lines.Line2D at 0x22617b52460>]"
      ]
     },
     "execution_count": 84,
     "metadata": {},
     "output_type": "execute_result"
    },
    {
     "data": {
      "image/png": "[encoded data removed]",
      "text/plain": [
       "<Figure size 432x288 with 1 Axes>"
      ]
     },
     "metadata": {
      "needs_background": "light"
     },
     "output_type": "display_data"
    }
   ],
   "source": [
    "plt.plot(df.loc[df['PRECTOTCORR'] > 4][\"WS10M\"] - df[\"WS10M\"].mean())"
   ]
  },
  {
   "cell_type": "code",
   "execution_count": null,
   "id": "12654635",
   "metadata": {},
   "outputs": [],
   "source": []
  }
 ],
 "metadata": {
  "kernelspec": {
   "display_name": "Python 3 (ipykernel)",
   "language": "python",
   "name": "python3"
  },
  "language_info": {
   "codemirror_mode": {
    "name": "ipython",
    "version": 3
   },
   "file_extension": ".py",
   "mimetype": "text/x-python",
   "name": "python",
   "nbconvert_exporter": "python",
   "pygments_lexer": "ipython3",
   "version": "3.9.12"
  }
 },
 "nbformat": 4,
 "nbformat_minor": 5
}
